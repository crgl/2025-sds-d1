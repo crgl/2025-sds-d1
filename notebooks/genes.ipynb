{
 "cells": [
  {
   "cell_type": "markdown",
   "id": "6d933238",
   "metadata": {},
   "source": [
    "### Reducing Dimensions"
   ]
  },
  {
   "cell_type": "markdown",
   "id": "eb9b05a9",
   "metadata": {},
   "source": []
  }
 ],
 "metadata": {
  "language_info": {
   "name": "python"
  }
 },
 "nbformat": 4,
 "nbformat_minor": 5
}
